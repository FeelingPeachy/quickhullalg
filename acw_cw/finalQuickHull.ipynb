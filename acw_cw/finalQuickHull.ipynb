{
  "nbformat": 4,
  "nbformat_minor": 0,
  "metadata": {
    "colab": {
      "provenance": []
    },
    "kernelspec": {
      "name": "python3",
      "display_name": "Python 3"
    },
    "language_info": {
      "name": "python"
    }
  },
  "cells": [
    {
      "cell_type": "markdown",
      "source": [
        "This function divides a set of points into two classes, those found above the line, and those found below the line. This function doesnt include points that lie on the line as they do not provide any added value to the calculations"
      ],
      "metadata": {
        "id": "XrkSLIlcRisb"
      }
    },
    {
      "cell_type": "code",
      "source": [
        "def divide_points(graph, left, right):\n",
        "  \"\"\"\n",
        "  params:\n",
        "  graph => set of points\n",
        "  left => leftmost point within the referenced graph\n",
        "  right => rightmost point within the referenced graph\n",
        "\n",
        "  returns:\n",
        "  a tuple of two arrays\n",
        "  \"\"\"\n",
        "  above_seg, below_seg = [], []\n",
        "\n",
        "  for point in graph:\n",
        "      segment = (point[1] - left[1]) * (right[0] - left[0]) - (right[1] - left[1]) * (point[0] - left[0])\n",
        "      if segment > 0:\n",
        "          above_seg.append(point)\n",
        "      if segment < 0:\n",
        "          below_seg.append(point)\n",
        "\n",
        "  return above_seg, below_seg"
      ],
      "metadata": {
        "id": "6JaYzVI-Rknj"
      },
      "execution_count": 2,
      "outputs": []
    },
    {
      "cell_type": "markdown",
      "source": [
        "Pseudocode\n",
        "\n",
        "    function divide_points(S, p1, p2)\n",
        "      above_segment := []\n",
        "      below_segment := []\n",
        "\n",
        "      for s ∈ S do\n",
        "        segment <- (s[1] - p1[1]) * (p2[0] - p1[0]) - (p2[1] - p1[1]) * (s[0] - p1[0])\n",
        "        if segment > 0 then\n",
        "          above_segment <- s\n",
        "\n",
        "        else if segment < 0 then\n",
        "          below_segment <- s\n",
        "\n",
        "    return above_segment, below_segment"
      ],
      "metadata": {
        "id": "lTd7nE8L1wjK"
      }
    },
    {
      "cell_type": "code",
      "source": [
        "# calcultates the distances of a point from the straigh line\n",
        "point_distance = lambda left, right, point: abs((point[1] - left[1]) * (right[0] - left[0]) - (right[1] - left[1]) * (point[0] - left[0]))\n",
        "\n",
        "def find_hull(graph, left, right, convex_hull, side):\n",
        "    \"\"\"\n",
        "    graph => set of points\n",
        "    left => leftmost point within the referenced graph\n",
        "    right => rightmost point within the referenced graph\n",
        "    convex_hull => containing points forming the convex hull\n",
        "    side => indicates if currently exploring the above segment or below segment\n",
        "    \"\"\"\n",
        "    # if graph conatins values\n",
        "    if graph:\n",
        "\n",
        "        # initialise max\n",
        "        max_point_dist = float('-inf')\n",
        "        max_point = (0, 0)\n",
        "\n",
        "        # for each point in the graph, find its distance\n",
        "        # update maximum distance if bigger than the curr max\n",
        "        for point in graph:\n",
        "            distance = point_distance(left, right, point)\n",
        "            if distance > max_point_dist:\n",
        "                max_point_dist = distance\n",
        "                max_point = point\n",
        "\n",
        "        # once furthest point is established, two new lines extend from left, right to max_point\n",
        "        # use the new lines to further divide points into two subsets again\n",
        "        first_divide = divide_points(graph, left, max_point)\n",
        "        sec_divide = divide_points(graph, max_point, right)\n",
        "\n",
        "        # side == 0 indicates above segment, vice versa\n",
        "        # depending on the side we are in, the side containing potential solutions will differ, therefore side param used to guide this\n",
        "        if side == 0:\n",
        "\n",
        "          find_hull(first_divide[0], left, max_point, convex_hull, 0)\n",
        "          find_hull(sec_divide[0], max_point, right, convex_hull, 0)\n",
        "\n",
        "        else:\n",
        "\n",
        "          find_hull(first_divide[1], left, max_point, convex_hull, 1)\n",
        "          find_hull(sec_divide[1], max_point, right, convex_hull, 1)\n",
        "\n",
        "    # if no points in graph, therefore no further points to explore\n",
        "    # therefore append points to convex hull as they exist in the graphs extremities\n",
        "    else:\n",
        "        if left not in convex_hull:\n",
        "            convex_hull.append(left)\n",
        "        if right not in convex_hull:\n",
        "            convex_hull.append(right)"
      ],
      "metadata": {
        "id": "UFQrXLk1SWe8"
      },
      "execution_count": 1,
      "outputs": []
    },
    {
      "cell_type": "markdown",
      "source": [
        "Pseudocode\n",
        "\n",
        "    point_distance <- lambda(left, right, point) {abs((point[1] - left[1]) * (right[0] - left[0]) - (right[1] - left[1]) * (point[0] - left[0]))}\n",
        "\n",
        "    function find_hull(S, left, right, convex_hull, side):\n",
        "\n",
        "        max_point_dist <- negative infinity\n",
        "        max_point <- (0, 0)\n",
        "\n",
        "        for s ∈ S do\n",
        "            distance <- point_distance(left, right, s)\n",
        "            if distance > max_point_dist tgen\n",
        "                max_point_dist <- distance\n",
        "                max_point <- s\n",
        "\n",
        "        first_divide <- divide_points(S, left, max_point)\n",
        "        sec_divide <- divide_points(graph, max_point, right)\n",
        "\n",
        "        if side == 0 then\n",
        "            find_hull(first_divide[0], left, max_point, convex_hull, 0)\n",
        "            find_hull(sec_divide[0], max_point, right, convex_hull, 0)\n",
        "        else do\n",
        "            find_hull(first_divide[1], left, max_point, convex_hull, 1)\n",
        "            find_hull(sec_divide[1], max_point, right, convex_hull, 1)\n",
        "\n",
        "    else:\n",
        "        if left not in convex_hull then\n",
        "            append left to convex_hull\n",
        "        if right not in convex_hull then\n",
        "            append right to convex_hull"
      ],
      "metadata": {
        "id": "RjKwpRht4RMe"
      }
    },
    {
      "cell_type": "code",
      "source": [
        "def quick_hull(graph):\n",
        "\n",
        "    # containing all points forming the convex hull\n",
        "    convex_hull = []\n",
        "\n",
        "    # finding the leftmost and rightmost points in the graoh\n",
        "    left, right = min(graph), max(graph)\n",
        "\n",
        "    # by default these points are in the convex hull\n",
        "    convex_hull.append(left)\n",
        "    convex_hull.append(right)\n",
        "\n",
        "    # segment these points into its subsets\n",
        "    above, below = divide_points(graph, left, right)\n",
        "\n",
        "    # recursively find other points forming the convex hull\n",
        "    find_hull(above, left, right, convex_hull, 0)\n",
        "    find_hull(below, left, right, convex_hull, 1)\n",
        "\n",
        "    return convex_hull"
      ],
      "metadata": {
        "id": "S27Dn_eMVH0D"
      },
      "execution_count": 3,
      "outputs": []
    },
    {
      "cell_type": "markdown",
      "source": [
        "Pseudocode\n",
        "\n",
        "    function quick_hull(set)\n",
        "  \n",
        "      convex_hull := [] // list containing all points in the convex hull\n",
        "\n",
        "      //if multiple values exist for left/right pick any\n",
        "      left <- minimum(set)\n",
        "      right <- maximum(set)\n",
        "\n",
        "      convex_hull <- left, right //initial points selected are extremities and therfore automatically included in convex hull\n",
        "\n",
        "      // split set into two subsets\n",
        "      above, below <- divide_points(set, left, right)\n",
        "\n",
        "      find_hull(above, left, right, convex_hull, 0)\n",
        "      find_hull(below, left, right, convex_hull, 1)\n",
        "    \n",
        "     return convex_hull\n",
        "  "
      ],
      "metadata": {
        "id": "bCdT-rKcyq85"
      }
    },
    {
      "cell_type": "code",
      "source": [
        "from scipy.spatial import ConvexHull\n",
        "import matplotlib.pyplot as plt\n",
        "import numpy as np\n",
        "import random\n",
        "\n",
        "\n",
        "# generates a size n array of x,y coordinates, to be used to test functionality of quickhull\n",
        "def create_testcases(n):\n",
        "    coordinates = [(random.randint(0, 10), random.randint(0, 10)) for _ in range(n)]\n",
        "    return coordinates"
      ],
      "metadata": {
        "id": "GSL7jSudV38-"
      },
      "execution_count": 5,
      "outputs": []
    },
    {
      "cell_type": "code",
      "source": [
        "test = create_testcases(20)\n",
        "test"
      ],
      "metadata": {
        "colab": {
          "base_uri": "https://localhost:8080/"
        },
        "id": "nXNSycrEhCYN",
        "outputId": "d392e4b7-ef14-49a5-dd8b-eebf0d4fdeff"
      },
      "execution_count": 10,
      "outputs": [
        {
          "output_type": "execute_result",
          "data": {
            "text/plain": [
              "[(1, 7),\n",
              " (5, 3),\n",
              " (9, 7),\n",
              " (0, 7),\n",
              " (4, 10),\n",
              " (3, 5),\n",
              " (4, 5),\n",
              " (3, 7),\n",
              " (0, 1),\n",
              " (3, 8),\n",
              " (3, 0),\n",
              " (6, 1),\n",
              " (7, 1),\n",
              " (7, 6),\n",
              " (10, 8),\n",
              " (2, 8),\n",
              " (9, 9),\n",
              " (8, 6),\n",
              " (5, 1),\n",
              " (10, 1)]"
            ]
          },
          "metadata": {},
          "execution_count": 10
        }
      ]
    },
    {
      "cell_type": "code",
      "source": [
        "# scipy convex hull calculation\n",
        "scipy_hull = ConvexHull(test)\n",
        "scipy_solution = set(tuple(test[i]) for i in scipy_hull.vertices)"
      ],
      "metadata": {
        "id": "o6J1jh7iFL5q"
      },
      "execution_count": 12,
      "outputs": []
    },
    {
      "cell_type": "code",
      "source": [
        "quick_hull_sol = quick_hull(test)\n",
        "assert set(quick_hull_sol) == scipy_solution # checking if the expected solution matches what i returned\n",
        "print(quick_hull_sol) # outputing solution"
      ],
      "metadata": {
        "colab": {
          "base_uri": "https://localhost:8080/"
        },
        "id": "bZeA6LTghB1R",
        "outputId": "05608db7-08a7-41ff-e078-93fcbf0c22e9"
      },
      "execution_count": 13,
      "outputs": [
        {
          "output_type": "stream",
          "name": "stdout",
          "text": [
            "[(0, 1), (10, 8), (0, 7), (4, 10), (9, 9), (3, 0), (10, 1)]\n"
          ]
        }
      ]
    },
    {
      "cell_type": "code",
      "source": [
        "\n",
        "allx_coords, ally_coords = zip(*test)\n",
        "plt.scatter(allx_coords, ally_coords, color='blue', marker='o', label='Points')\n",
        "\n",
        "x_coords, y_coords = zip(*quick_hull_sol)\n",
        "plt.scatter(x_coords, y_coords, color='red', marker='o', label='Points')\n",
        "\n",
        "plt.xlabel('X-axis')\n",
        "plt.ylabel('Y-axis')\n",
        "plt.title('Plot of Given Points')\n",
        "\n",
        "plt.legend()\n",
        "\n",
        "plt.show()"
      ],
      "metadata": {
        "colab": {
          "base_uri": "https://localhost:8080/",
          "height": 472
        },
        "id": "t9vbkANbjptQ",
        "outputId": "6d8b43d6-9e81-4354-9bc9-b4770ada37ba"
      },
      "execution_count": 14,
      "outputs": [
        {
          "output_type": "display_data",
          "data": {
            "text/plain": [
              "<Figure size 640x480 with 1 Axes>"
            ],
            "image/png": "[encoded data removed]"
          },
          "metadata": {}
        }
      ]
    }
  ]
}